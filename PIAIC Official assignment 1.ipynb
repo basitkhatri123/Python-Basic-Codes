{
 "cells": [
  {
   "cell_type": "markdown",
   "metadata": {},
   "source": [
    "## 1. Calculate Area of a Circle"
   ]
  },
  {
   "cell_type": "markdown",
   "metadata": {},
   "source": [
    "#### Write a Python program which accepts the radius of a circle from the user and compute the area.\n",
    "###### Program Console Sample Output 1:\n",
    "###### Input Radius: 0.5\n",
    "###### Area of Circle with radius 0.5 is 0.7853981634"
   ]
  },
  {
   "cell_type": "code",
   "execution_count": 15,
   "metadata": {},
   "outputs": [
    {
     "name": "stdout",
     "output_type": "stream",
     "text": [
      "Input Radius:0.5\n",
      "Area Of Circle with radius 0.5 is 0.785\n"
     ]
    }
   ],
   "source": [
    "Radius=float(input(\"Input Radius:\"))\n",
    "print(\"Area Of Circle with radius\",Radius,\"is\",3.14*(Radius**2))"
   ]
  },
  {
   "cell_type": "markdown",
   "metadata": {},
   "source": [
    "## 2. Check Number either positive, negative or zero"
   ]
  },
  {
   "cell_type": "markdown",
   "metadata": {},
   "source": [
    "#### Write a Python program to check if a number is positive, negative or zero\n",
    "###### Program Console Sample Output 1:\n",
    "###### Enter Number: -1\n",
    "##### Negative Number Entered\n",
    "###### Program Console Sample Output 2:\n",
    "##### Integer: 3\n",
    "##### Positive Number Entered\n",
    "###### Program Console Sample Output 3:\n",
    "##### Integer: 0\n",
    "###### Zero Entered"
   ]
  },
  {
   "cell_type": "code",
   "execution_count": 2,
   "metadata": {},
   "outputs": [
    {
     "name": "stdout",
     "output_type": "stream",
     "text": [
      "Enter Number:-1\n",
      "Negative Number Entered\n"
     ]
    }
   ],
   "source": [
    "integer = float(input(\"Enter Number:\"))\n",
    "if integer < 0:\n",
    "    print(\"Negative Number Entered\")\n",
    "elif integer > 0:\n",
    "   print(\"Positive Number Entered\")\n",
    "else:\n",
    "   print(\"Zero Entered\")"
   ]
  },
  {
   "cell_type": "code",
   "execution_count": 3,
   "metadata": {},
   "outputs": [
    {
     "name": "stdout",
     "output_type": "stream",
     "text": [
      "Integer:3\n",
      "Positive Number Entered\n"
     ]
    }
   ],
   "source": [
    "integer = float(input(\"Integer:\"))\n",
    "if integer < 0:\n",
    "    print(\"Negative Number Entered\")\n",
    "elif integer > 0:\n",
    "   print(\"Positive Number Entered\")\n",
    "else:\n",
    "   print(\"Zero Entered\")"
   ]
  },
  {
   "cell_type": "code",
   "execution_count": 4,
   "metadata": {},
   "outputs": [
    {
     "name": "stdout",
     "output_type": "stream",
     "text": [
      "Integer:0\n",
      "Zero Entered\n"
     ]
    }
   ],
   "source": [
    "integer = float(input(\"Integer:\"))\n",
    "if integer < 0:\n",
    "    print(\"Negative Number Entered\")\n",
    "elif integer > 0:\n",
    "   print(\"Positive Number Entered\")\n",
    "else:\n",
    "   print(\"Zero Entered\")"
   ]
  },
  {
   "cell_type": "markdown",
   "metadata": {},
   "source": [
    "## 3. Divisibility Check of two numbers"
   ]
  },
  {
   "cell_type": "markdown",
   "metadata": {},
   "source": [
    "#### Write a Python program to check whether a number is completely divisible by another number. Accept two integer values form the user\n",
    "##### Program Console Sample Output 1:\n",
    "###### Enter numerator: 4\n",
    "###### Enter Denominator: 2\n",
    "##### Number 4 is Completely divisible by 2\n",
    "###### Program Console Sample Output 2:\n",
    "##### Enter numerator: 7\n",
    "\n",
    "##### Enter Denominator: 4\n",
    "###### Number 7 is not Completely divisible by 4"
   ]
  },
  {
   "cell_type": "code",
   "execution_count": 5,
   "metadata": {},
   "outputs": [
    {
     "name": "stdout",
     "output_type": "stream",
     "text": [
      "Enter numerator: 4\n",
      "Enter Denominator: 2\n",
      "Number 4 is completely divisible by 2\n"
     ]
    }
   ],
   "source": [
    "first=int(input(\"Enter numerator:\"))\n",
    "second=int(input(\"Enter Denominator:\"))\n",
    "if first%second==0:\n",
    "    print(\"Number\",first,\"is completely divisible by\",second)\n",
    "else:\n",
    "     print(\"Number\",first,\"is not completely divisible by\",second)"
   ]
  },
  {
   "cell_type": "code",
   "execution_count": 1,
   "metadata": {},
   "outputs": [
    {
     "name": "stdout",
     "output_type": "stream",
     "text": [
      "Enter numerator:7\n",
      "Enter Denominator:4\n",
      "Number 7 is not completely divisible by 4\n"
     ]
    }
   ],
   "source": [
    "first=int(input(\"Enter numerator:\"))\n",
    "second=int(input(\"Enter Denominator:\"))\n",
    "if first%second==0:\n",
    "    print(\"Number\",first,\"is completely divisible by\",second)\n",
    "else:\n",
    "     print(\"Number\",first,\"is not completely divisible by\",second)"
   ]
  },
  {
   "cell_type": "markdown",
   "metadata": {},
   "source": [
    "## 4. Calculate Volume of a sphere"
   ]
  },
  {
   "cell_type": "markdown",
   "metadata": {},
   "source": [
    "##### Write a Python program to get the volume of a sphere, please take the radius as input from user"
   ]
  },
  {
   "cell_type": "markdown",
   "metadata": {},
   "source": [
    "##### Program Console Output:\n",
    "##### Enter Radius of Sphere: 1\n",
    "###### Volume of the Sphere with Radius 1 is 4.18"
   ]
  },
  {
   "cell_type": "code",
   "execution_count": 11,
   "metadata": {},
   "outputs": [
    {
     "name": "stdout",
     "output_type": "stream",
     "text": [
      "Enter radius of Sphere:1\n",
      "Volume of the Sphere with Radius 1.0 is 4.19\n"
     ]
    }
   ],
   "source": [
    "spradius=float(input(\"Enter radius of Sphere:\"))\n",
    "volume=(4/3*(3.141*spradius*spradius*spradius))\n",
    "print(\"Volume of the Sphere with Radius\",spradius,\"is\",round(volume,2))"
   ]
  },
  {
   "cell_type": "markdown",
   "metadata": {},
   "source": [
    "## 5. Copy string n times\n",
    "#### Write a Python program to get a string which is n (non-negative integer) copies of a given string.\n",
    "##### Program Console Output:\n",
    "##### Enter String: Hi\n",
    "###### How many copies of String you need: 4\n",
    "###### 4 Copies of Hi are HiHiHiHi"
   ]
  },
  {
   "cell_type": "code",
   "execution_count": 8,
   "metadata": {},
   "outputs": [
    {
     "name": "stdout",
     "output_type": "stream",
     "text": [
      "Enter String:Hi\n",
      "How many copies of String you need:4\n",
      "4 Copies of Hi are HiHiHiHi\n"
     ]
    }
   ],
   "source": [
    "to_copy=input(\"Enter String:\")\n",
    "number= int(input(\"How many copies of String you need:\"))\n",
    "print(number,\"Copies of\",to_copy,\"are\",to_copy*number)"
   ]
  },
  {
   "cell_type": "markdown",
   "metadata": {},
   "source": [
    "## 6. Check if number is Even or Odd\n",
    "### Write a Python program to find whether a given number (accept from the user) is even or odd, print out an appropriate message to the user\n",
    "#### Program Console Output 1:\n",
    "##### Enter Number: 4\n",
    "###### 4 is Even\n",
    "#### Program Console Output 2:\n",
    "##### Enter Number: 9\n",
    "###### 9 is Odd"
   ]
  },
  {
   "cell_type": "code",
   "execution_count": 11,
   "metadata": {},
   "outputs": [
    {
     "name": "stdout",
     "output_type": "stream",
     "text": [
      "Enter Number:4\n",
      "4 is Even\n"
     ]
    }
   ],
   "source": [
    "Nmbr=int(input(\"Enter Number:\"))\n",
    "if Nmbr%2==0:\n",
    "    print(Nmbr,\"is Even\")\n",
    "else:\n",
    "    print(Nmbr,\"is Odd\")"
   ]
  },
  {
   "cell_type": "code",
   "execution_count": 12,
   "metadata": {},
   "outputs": [
    {
     "name": "stdout",
     "output_type": "stream",
     "text": [
      "Enter Number:9\n",
      "9 is Odd\n"
     ]
    }
   ],
   "source": [
    "Nmbr=int(input(\"Enter Number:\"))\n",
    "if Nmbr%2==0:\n",
    "    print(Nmbr,\"is Even\")\n",
    "else:\n",
    "    print(Nmbr,\"is Odd\")"
   ]
  },
  {
   "cell_type": "markdown",
   "metadata": {},
   "source": [
    "## 7. Vowel Tester\n",
    "### Write a Python program to test whether a passed letter is a vowel or not\n",
    "#### Program Console Output 1:\n",
    "##### Enter a character: A\n",
    "###### Letter A is Vowel\n",
    "#### Program Console Output 2:\n",
    "##### Enter a character: e\n",
    "###### Letter e is Vowel\n",
    "#### Program Console Output 2:\n",
    "##### Enter a character: N\n",
    "###### Letter N is not Vowel"
   ]
  },
  {
   "cell_type": "code",
   "execution_count": 8,
   "metadata": {},
   "outputs": [
    {
     "name": "stdout",
     "output_type": "stream",
     "text": [
      "Enter a character:A\n",
      "Letter A is Vowel\n"
     ]
    }
   ],
   "source": [
    "alpha=input(\"Enter a character:\")\n",
    "if(alpha == 'a' or alpha == 'A' or alpha == 'e' or alpha == 'E' or alpha == 'i' or alpha == 'I' or alpha == 'o' or alpha == 'O' or alpha == 'u' or alpha == 'U'):\n",
    "    print(\"Letter\",alpha,\"is Vowel\")\n",
    "else:\n",
    "    print(\"Letter\",alpha,\"is not Vowel\")"
   ]
  },
  {
   "cell_type": "code",
   "execution_count": 9,
   "metadata": {},
   "outputs": [
    {
     "name": "stdout",
     "output_type": "stream",
     "text": [
      "Enter a character:e\n",
      "Letter e is Vowel\n"
     ]
    }
   ],
   "source": [
    "alpha=input(\"Enter a character:\")\n",
    "if(alpha == 'a' or alpha == 'A' or alpha == 'e' or alpha == 'E' or alpha == 'i' or alpha == 'I' or alpha == 'o' or alpha == 'O' or alpha == 'u' or alpha == 'U'):\n",
    "    print(\"Letter\",alpha,\"is Vowel\")\n",
    "else:\n",
    "    print(\"Letter\",alpha,\"is not Vowel\")"
   ]
  },
  {
   "cell_type": "code",
   "execution_count": 10,
   "metadata": {},
   "outputs": [
    {
     "name": "stdout",
     "output_type": "stream",
     "text": [
      "Enter a character:N\n",
      "Letter N is not Vowel\n"
     ]
    }
   ],
   "source": [
    "alpha=input(\"Enter a character:\")\n",
    "if(alpha == 'a' or alpha == 'A' or alpha == 'e' or alpha == 'E' or alpha == 'i' or alpha == 'I' or alpha == 'o' or alpha == 'O' or alpha == 'u' or alpha == 'U'):\n",
    "    print(\"Letter\",alpha,\"is Vowel\")\n",
    "else:\n",
    "    print(\"Letter\",alpha,\"is not Vowel\")"
   ]
  },
  {
   "cell_type": "markdown",
   "metadata": {},
   "source": [
    "## 8. Triangle area\n",
    "### Write a Python program that will accept the base and height of a triangle and compute the area\n",
    "###### Reference:\n",
    "https://www.mathgoodies.com/lessons/vol1/area_triangle"
   ]
  },
  {
   "cell_type": "code",
   "execution_count": 3,
   "metadata": {},
   "outputs": [
    {
     "name": "stdout",
     "output_type": "stream",
     "text": [
      "Enter The Base Of A Triangle:34\n",
      "Enter The Height Of A Triangle:23\n",
      "Area of The Triangle is: 391.0\n"
     ]
    }
   ],
   "source": [
    "base=int(input(\"Enter The Base Of A Triangle:\"))\n",
    "height=int(input(\"Enter The Height Of A Triangle:\"))\n",
    "print(\"Area of The Triangle is:\",base*height/2)"
   ]
  },
  {
   "cell_type": "markdown",
   "metadata": {},
   "source": [
    "## 9. Calculate Interest\n",
    "### Write a Python program to compute the future value of a specified principal amount, rate of interest, and a number of years\n",
    "#### Program Console Sample 1:\n",
    "##### Please enter principal amount: 10000\n",
    "###### Please Enter Rate of interest in %: 0.1\n",
    "###### Enter number of years for investment: 5\n",
    "###### After 5 years your principal amount 10000 over an interest rate of 0.1 % will be 16105.1"
   ]
  },
  {
   "cell_type": "code",
   "execution_count": 36,
   "metadata": {},
   "outputs": [
    {
     "name": "stdout",
     "output_type": "stream",
     "text": [
      "Please enter principal amount:10000\n",
      "Please Enter Rate Of interest in %:0.1\n",
      "Enter number of years for investment:5\n",
      "After 5 years your principal amount over an interest rate of 0.1 % will be 16105.1\n"
     ]
    }
   ],
   "source": [
    "amt=int(input(\"Please enter principal amount:\"))\n",
    "interest=float(input(\"Please Enter Rate Of interest in %:\"))\n",
    "years=int(input(\"Enter number of years for investment:\"))\n",
    "for i in range(years):\n",
    "    amt = amt * (1+interest)  \n",
    "print(\"After\",years,\"years your principal amount over an interest rate of\" ,interest,\"% will be\",round(amt,1))"
   ]
  },
  {
   "cell_type": "markdown",
   "metadata": {},
   "source": [
    "## 10. Euclidean distance\n",
    "### write a Python program to compute the distance between the points (x1, y1) and (x2, y2).\n",
    "#### Program Console Sample 1:\n",
    "###### Enter Co-ordinate for x1: 2\n",
    "###### Enter Co-ordinate for x2: 4\n",
    "###### Enter Co-ordinate for y1: 4\n",
    "###### Enter Co-ordinate for y2: 4\n",
    "###### Distance between points (2, 4) and (4, 4) is 2"
   ]
  },
  {
   "cell_type": "markdown",
   "metadata": {},
   "source": [
    "###### Reference:\n",
    "https://en.wikipedia.org/wiki/Euclidean_distance"
   ]
  },
  {
   "cell_type": "code",
   "execution_count": 1,
   "metadata": {},
   "outputs": [
    {
     "name": "stdout",
     "output_type": "stream",
     "text": [
      "Enter Co-Ordinate for x1:2\n",
      "Enter Co-Ordinate for x2:4\n",
      "Enter Co-Ordinate for y1:4\n",
      "Enter Co-Ordinate for y2:4\n",
      "Distance between points( 2 , 4 )and( 4 , 4 )is 2.0\n"
     ]
    }
   ],
   "source": [
    "import math\n",
    "x1=int(input(\"Enter Co-Ordinate for x1:\"))\n",
    "x2=int(input(\"Enter Co-Ordinate for x2:\"))\n",
    "y1=int(input(\"Enter Co-Ordinate for y1:\"))\n",
    "y2=int(input(\"Enter Co-Ordinate for y2:\"))\n",
    "distance = math.sqrt( ((x1-y1)**2)+((x2-y2)**2))\n",
    "print(\"Distance between points\"\"(\",x1,\",\",y1,\")\"\"and\"\"(\",x2,\",\",y2,\")\"\"is\",distance)"
   ]
  },
  {
   "cell_type": "markdown",
   "metadata": {},
   "source": [
    "## 11. Feet to Centimeter Converter\n",
    "### Write a Python program to convert height in feet to centimetres.\n",
    "##### Program Console Sample 1:\n",
    "###### Enter Height in Feet: 5\n",
    "###### There are 152.4 Cm in 5 ft\n",
    "###### Reference:\n",
    "https://www.rapidtables.com/convert/length/feet-to-cm.html"
   ]
  },
  {
   "cell_type": "code",
   "execution_count": 4,
   "metadata": {},
   "outputs": [
    {
     "name": "stdout",
     "output_type": "stream",
     "text": [
      "Enter Height in Feet:5\n",
      "There are 152.4 Cm in 5.0 ft\n"
     ]
    }
   ],
   "source": [
    "feeet= float(input(\"Enter Height in Feet:\"))\n",
    "print(\"There are\",round((feeet*2.54*12),1),\"Cm in\",feeet,\"ft\")"
   ]
  },
  {
   "cell_type": "markdown",
   "metadata": {},
   "source": [
    "# 12. BMI Calculator\n",
    "\n",
    "### Write a Python program to calculate body mass index\n",
    "\n",
    "##### Program Console Sample 1:\n",
    "\n",
    "###### Enter Height in Cm: 180\n",
    "###### Enter Weight in Kg: 75\n",
    "###### Your BMI is 23.15"
   ]
  },
  {
   "cell_type": "code",
   "execution_count": 5,
   "metadata": {},
   "outputs": [
    {
     "name": "stdout",
     "output_type": "stream",
     "text": [
      "Enter Height:180\n",
      "Enter Weight in Kg:75\n",
      "Your Bmi is 23.15\n"
     ]
    }
   ],
   "source": [
    "Height = float(input(\"Enter Height:\"))\n",
    "Weight = float(input(\"Enter Weight in Kg:\"))\n",
    "Cm=Height/100\n",
    "Bmi = Weight / (Cm*Cm)\n",
    "print(\"Your Bmi is\",round(Bmi,2))"
   ]
  },
  {
   "cell_type": "markdown",
   "metadata": {},
   "source": [
    "## 13. Sum of n Positive Integers\n",
    "### Write a python program to sum of the first n positive integers\n",
    "#### Program Console Sample 1:\n",
    "###### Enter value of n: 5\n",
    "###### Sum of n Positive integers till 5 is 15"
   ]
  },
  {
   "cell_type": "code",
   "execution_count": 12,
   "metadata": {},
   "outputs": [
    {
     "name": "stdout",
     "output_type": "stream",
     "text": [
      "Enter value of n:5\n",
      "Sum of n Positive integers till 5 is 15.0\n"
     ]
    }
   ],
   "source": [
    "Nmbr= int(input(\"Enter value of n:\"))\n",
    "print(\"Sum of n Positive integers till\",Nmbr,\"is\",(Nmbr*(Nmbr+1))/2)"
   ]
  },
  {
   "cell_type": "markdown",
   "metadata": {},
   "source": [
    "## 14. Digits Sum of a Number\n",
    "### Write a Python program to calculate the sum of the digits in an integer\n",
    "#### Program Console Sample 1:\n",
    "##### Enter a number: 15\n",
    "###### Sum of 1 + 5 is 6\n",
    "#### Program Console Sample 2:\n",
    "##### Enter a number: 1234\n",
    "###### Sum of 1 + 2 + 3 + 4 is 10"
   ]
  },
  {
   "cell_type": "code",
   "execution_count": 1,
   "metadata": {},
   "outputs": [
    {
     "name": "stdout",
     "output_type": "stream",
     "text": [
      "Enter Numbers: 123456\n",
      "Sum Is :  21\n"
     ]
    }
   ],
   "source": [
    "a = map(int,str(input('Enter Numbers: ')))\n",
    "print(\"Sum Is : \",sum(a))"
   ]
  }
 ],
 "metadata": {
  "kernelspec": {
   "display_name": "Python 3",
   "language": "python",
   "name": "python3"
  },
  "language_info": {
   "codemirror_mode": {
    "name": "ipython",
    "version": 3
   },
   "file_extension": ".py",
   "mimetype": "text/x-python",
   "name": "python",
   "nbconvert_exporter": "python",
   "pygments_lexer": "ipython3",
   "version": "3.7.3"
  }
 },
 "nbformat": 4,
 "nbformat_minor": 2
}
